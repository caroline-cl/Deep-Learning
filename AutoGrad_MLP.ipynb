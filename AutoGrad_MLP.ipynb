{
  "cells": [
    {
      "cell_type": "markdown",
      "metadata": {
        "id": "06bnDgIYNrim"
      },
      "source": [
        "# Homework 2: Programming\n",
        "\n",
        "The following notebook contains skeleton-code for answering problems 2 and 3 of homework assignment 2. Please read through each cell carefully to understand what is expected to be implemented. For your final submission, please try to clean up any intermediate outputs used for debugging."
      ]
    },
    {
      "cell_type": "markdown",
      "metadata": {
        "id": "scoOJkUyNrin"
      },
      "source": [
        "### Imports\n",
        "\n",
        "You should be able to complete the entire assignment using only the following imports. Please consult the course staff if you are unsure about whether additional packages may be used."
      ]
    },
    {
      "cell_type": "code",
      "execution_count": 1,
      "metadata": {
        "id": "9vllQSx4E9oP"
      },
      "outputs": [],
      "source": [
        "## Import Packages\n",
        "import random\n",
        "import numpy as np\n",
        "import matplotlib.pyplot as plt"
      ]
    },
    {
      "cell_type": "markdown",
      "metadata": {
        "id": "hJX0u5W1cZDc"
      },
      "source": [
        "## Question 2\n"
      ]
    },
    {
      "cell_type": "markdown",
      "metadata": {
        "id": "bGn3Fryvfrbu"
      },
      "source": [
        "Below we provide an AutoGrad class named `Value`. The basic idea is to store the existing computational map during the creation of each `Value`, and calculate the gradient using backpropagation when one of the `Value` calls `backward()` method.\n",
        "\n",
        "The `backward()` function will arange the computational graph and backpropagate the gradients. All you need to do is to implement all the operations with its corresponding `_backward` function. We have provided the `__add__` function (sum of two nodes) as an example to help get you started.\n",
        "\n",
        "This notebook is designed in a Object Oriented way, if you are not farmiliar with the Object Oriented Programming in Python, you can refer to:\n",
        "\n",
        "(1) https://realpython.com/python3-object-oriented-programming/\n",
        "\n",
        "(2) https://docs.python.org/3/tutorial/classes.html\n"
      ]
    },
    {
      "cell_type": "code",
      "execution_count": 2,
      "metadata": {
        "id": "7saLrsq-5Wc6"
      },
      "outputs": [],
      "source": [
        "class Value:\n",
        "    \n",
        "    \"\"\"\n",
        "    Basic unit of storing a single scalar value and its gradient\n",
        "    \"\"\"\n",
        "    \n",
        "    def __init__(self, data, _children=()):\n",
        "        \"\"\"\n",
        "        \n",
        "        \"\"\"\n",
        "        self.data = data\n",
        "        self.grad = 0\n",
        "        self._prev = set(_children)\n",
        "        self._backward = lambda: None\n",
        "    \n",
        "    def __add__(self, other):\n",
        "        \"\"\"\n",
        "        Example implementation of a single class operation (addition)\n",
        "        \n",
        "        Args:\n",
        "            other (Any): Node to add with the class\n",
        "        \n",
        "        Returns:\n",
        "            out (callable): Function to referesh the gradient\n",
        "        \"\"\"\n",
        "        #Firstly, convert some default value type in python to Value\n",
        "        #Then do operations with two or more Value object\n",
        "        other = other if isinstance(other, Value) else Value(other)\n",
        "\n",
        "        #Secondly, create a new Value object which is the result of the operation \n",
        "        out = Value(self.data + other.data, (self, other))\n",
        "\n",
        "        #Thirdly, create a _backward function for the output object to refresh\n",
        "        # the gradient of its _childrens, \n",
        "        #Then assign this _backward function to the output object.\n",
        "        def _backward():\n",
        "            self.grad += out.grad\n",
        "            other.grad += out.grad\n",
        "        out._backward = _backward\n",
        "\n",
        "        return out\n",
        "\n",
        "    def __mul__(self, other):\n",
        "        \"\"\"\n",
        "        Multiplication operation (e.g. Value(3) * Value(2) = Value(6))\n",
        "        \"\"\"\n",
        "        #TODO implement multiplication operation\n",
        "\n",
        "        other = other if isinstance(other, Value) else Value(other)     #make sure other is in the Value class\n",
        "        out = Value(self.data * other.data, (self, other))    #define the forward result of a mult. operation and save self & other as children of new Value\n",
        "\n",
        "        def _backward():\n",
        "            self.grad += out.grad * other.data\n",
        "            other.grad += out.grad * self.data\n",
        "        \n",
        "        out._backward = _backward\n",
        "\n",
        "        return out\n",
        "    \n",
        "    def __pow__(self, other):\n",
        "        \"\"\"\n",
        "        Power operation (e.g Value(3) ** 2 = Value(9))\n",
        "        \"\"\"\n",
        "        #TODO implement power operation, we don't need to convert the exponent to Value\n",
        "        \n",
        "        #We do not convert other to Value in this case because other is not meaningful in a sense that we do not need a node that contains it nor any value or gradient for it.\n",
        "        assert isinstance(other, (int, float))\n",
        "\n",
        "        out = Value(self.data ** other, (self, ))\n",
        "\n",
        "        def _backward():\n",
        "            self.grad += out.grad * other * (self.data ** (other - 1))\n",
        "        \n",
        "        out._backward = _backward\n",
        "       \n",
        "        return out\n",
        "    \n",
        "    def relu(self):\n",
        "        \"\"\"\n",
        "        ReLU activation function applied to the current Value\n",
        "        \"\"\"\n",
        "        #TODO implement the relu activation function for the value itself.\n",
        "        if self.data < 0:\n",
        "            out = Value(0, (self, ))\n",
        "        else:\n",
        "            out = Value(self.data, (self, ))\n",
        "\n",
        "        def _backward():\n",
        "            self.grad += out.grad * out.data\n",
        "\n",
        "        out._backward = _backward\n",
        "\n",
        "        return out\n",
        "    \n",
        "    \n",
        "    def exp(self):\n",
        "        \"\"\"\n",
        "        Exponentiate the current Value (e.g. e ^ Value(0) = Value(1))\n",
        "        \"\"\"\n",
        "        #TODO implement the exponential function for and treat the value as exponent.\n",
        "        #The base is natural e, you can use numpy to calculate the value of the exponential.\n",
        "        out = Value(np.exp(self.data), (self, ))\n",
        "\n",
        "        def _backward():\n",
        "            self.grad += out.grad * out.data\n",
        "\n",
        "        out._backward = _backward\n",
        "\n",
        "        return out\n",
        "    \n",
        "    def log(self):\n",
        "        \"\"\"\n",
        "        Take the natural logarithm (base e) of the current Value\n",
        "        \"\"\"\n",
        "        #TODO implement the logarithm function for and treat the value as exponent.\n",
        "        #The bottom number should be e, you can use numpy to calculate the value of the logarithm.\n",
        "        out = Value(np.log(self.data), (self, ))\n",
        "\n",
        "        def _backward():\n",
        "            self.grad += out.grad / self.data\n",
        "\n",
        "        out._backward = _backward\n",
        "\n",
        "        return out\n",
        "\n",
        "    def backward(self):\n",
        "        \"\"\"\n",
        "        Run backpropagation from the current Value\n",
        "        \"\"\"\n",
        "        #This function is called when you start backpropagation from this Value\n",
        "\n",
        "        #The gradient of this value is initialized to 1 for you.\n",
        "        self.grad = 1\n",
        "\n",
        "        #You need to find a right topological order all of the children in the graph.\n",
        "        #As for topology sort, you can refer to http://www.cs.cornell.edu/courses/cs312/2004fa/lectures/lecture15.htm\n",
        "  \n",
        "        topo = []\n",
        "        #TODO find the right list of Value to be traversed\n",
        "        '''\n",
        "        Hint: you can recursively visit all non-visited node from the node calling backward.\n",
        "        add one node to the head of the list after all of its children node are visited\n",
        "        '''\n",
        "        #Initialize an empty set for nodes, so that we can add a node in once it has been visited to avoid making duplicate nodes.\n",
        "        node = set()\n",
        "\n",
        "        #Use Depth-First-Search method defined below to add nodes, travers all nodes from top to bottom, then add nodes into topo in topological order.\n",
        "        self.DFS(node, topo)\n",
        "        #Reverse the topo list so we can perform backpropagation starting from the last node\n",
        "        topo.reverse()\n",
        "        \n",
        "        #go one variable at a time and apply the chain rule to get its gradient\n",
        "\n",
        "        for v in topo:\n",
        "            v._backward()\n",
        "\n",
        "    # Define DFS\n",
        "    def DFS(self, node, topo):\n",
        "        if self not in node:\n",
        "            node.add(self)\n",
        "            for x in self._prev:      #for each child node of self, recursively run them through the DFS function\n",
        "                x.DFS(node, topo)\n",
        "            topo.append(self)\n",
        "\n",
        "    # We handled the negation and reverse operations for you\n",
        "    def __neg__(self): # -self\n",
        "        \"\"\"\n",
        "        Negate the current Value\n",
        "        \"\"\"\n",
        "        return self * -1\n",
        "\n",
        "    def __radd__(self, other): #other + self\n",
        "        \"\"\"\n",
        "        Reverse addition operation (ordering matters in Python)\n",
        "        \"\"\"\n",
        "        return self + other\n",
        "    \n",
        "    def __sub__(self, other): # self - other\n",
        "        \"\"\"\n",
        "        Subtraction operation\n",
        "        \"\"\"\n",
        "        return self + (-other)\n",
        "    \n",
        "    def __rsub__(self, other): # other - self\n",
        "        \"\"\"\n",
        "        Reverse subtraction operation\n",
        "        \"\"\"\n",
        "        return other + (-self)\n",
        "    \n",
        "    def __rmul__(self, other): # other * self\n",
        "        \"\"\"\n",
        "        Reverse multiplication operation\n",
        "        \"\"\"\n",
        "        return self * other\n",
        "    \n",
        "    def __truediv__(self, other): # self / other\n",
        "        \"\"\"\n",
        "        Division operation\n",
        "        \"\"\"\n",
        "        return self * other**-1\n",
        "    \n",
        "    def __rtruediv__(self, other): # other / self\n",
        "        \"\"\"\n",
        "        Reverse diction operation\n",
        "        \"\"\"\n",
        "        return other * self**-1\n",
        "    \n",
        "    def __repr__(self):\n",
        "        \"\"\"\n",
        "        Class representation (instead of unfriendly memory address)\n",
        "        \"\"\"\n",
        "        return f\"Value(data={self.data}, grad={self.grad})\""
      ]
    },
    {
      "cell_type": "markdown",
      "metadata": {
        "id": "SWMte8xaeWpK"
      },
      "source": [
        "Now, we are going to use the simple example in q1.b to get you familar with the usage of this class.\n",
        "\n",
        "If your implementation is correct, you will get the same values and gradients as your hand-caculated ones.\n",
        "\n",
        "Be careful! Even you get this test case right, it does not guarantee the correctness of your implementation. "
      ]
    },
    {
      "cell_type": "code",
      "execution_count": 3,
      "metadata": {
        "colab": {
          "base_uri": "https://localhost:8080/"
        },
        "id": "PeoL0WIL_sHD",
        "outputId": "898b1674-ef70-404c-e6c9-069211f1b75a"
      },
      "outputs": [
        {
          "output_type": "stream",
          "name": "stdout",
          "text": [
            "Gradients of f with respect to:\n",
            "w1 =  0.34975579811673396 w2 =  -0.400488403766532 x1 =  0.074633697175101 x2 =  -0.124389495291835\n",
            "  Forward Backward\n",
            "q1 0.060 0.249\n",
            "q2 -0.200 0.249\n",
            "q3 -0.140 0.249\n",
            "q4 0.140 -0.249\n",
            "q5 1.150 -0.216\n",
            "q6 2.150 -0.216\n",
            "q7 0.465 1.000\n",
            "r1 0.090 0.500\n",
            "r2 0.250 0.500\n",
            "r3 0.340 0.500\n",
            "r4 0.170 1.000\n",
            "f 0.635 1.000\n"
          ]
        }
      ],
      "source": [
        "## Initialize Example Values (From Written Assignment)\n",
        "w1 = Value(0.3)\n",
        "w2 = Value(-0.5)\n",
        "x1 = Value(0.2)\n",
        "x2 = Value(0.4)\n",
        "\n",
        "#TODO\n",
        "#Do calculation for the question 1.b, and call backward to start backpropagation.\n",
        "q1 = w1.__mul__(x1)       #w1 * x1\n",
        "q2 = x2.__mul__(w2)       #x2 * w2\n",
        "q3 = q1.__add__(q2)       #w1 * x1 + x2 * w2\n",
        "q4 = q3.__neg__()         #(w1x1 + w2x2)(-1)\n",
        "q5 = q4.exp()             #exp(-(w1x1 + w2x2))\n",
        "q6 = q5.__radd__(1)       #1 + exp(-(w1x1 + w2x2))\n",
        "q7 = q6.__rtruediv__(1)   #1 / (1 + exp(-(w1x1 + w2x2)))\n",
        "\n",
        "r1 = w1.__pow__(2)        #w1^2\n",
        "r2 = w2.__pow__(2)        #w2^2\n",
        "r3 = r1.__add__(r2)       #w1^2 + w2^w\n",
        "r4 = r3.__rmul__(0.5)     #(w1^2 + w2^w)(0.5)\n",
        "\n",
        "f = q7.__add__(r4)        #1 / (1 + exp(-(w1x1 + w2x2))) + 0.5(w1^2 + w2^2)\n",
        "f.backward()\n",
        "\n",
        "#Then print out the gradient of w1 w2 x1 x2.\n",
        "print('Gradients of f with respect to:')\n",
        "print('w1 = ', w1.grad, 'w2 = ', w2.grad, 'x1 = ', x1.grad, 'x2 = ', x2.grad)\n",
        "\n",
        "#Print the intermediate values\n",
        "inter = [q1, q2, q3, q4, q5, q6, q7, r1, r2, r3, r4, f]\n",
        "function_name = ['q1', 'q2', 'q3', 'q4', 'q5', 'q6', \n",
        "                 'q7', 'r1', 'r2', 'r3', 'r4', 'f']\n",
        "print(' ', 'Forward', 'Backward')\n",
        "for i in range(len(inter)):\n",
        "    print(function_name[i], '%.3f' % inter[i].data, '%.3f' % inter[i].grad)\n",
        "\n"
      ]
    },
    {
      "cell_type": "markdown",
      "metadata": {
        "id": "oowriEHef1b7"
      },
      "source": [
        "## Question 3"
      ]
    },
    {
      "cell_type": "markdown",
      "metadata": {
        "id": "Lcv2k0PLg6wY"
      },
      "source": [
        "### Implementation of the linear layer\n",
        "You will implement a `LinearLayer` module here.\n",
        "\n",
        "We provide the initialization of the class `LinearLayer`. You need to implement the forward function -- Return the results - `out` with the shape `[n_samples, n_out_channels]` of a linear layer when the the data `x` shaped `[n_samples, n_in_channels]` is fed into it.\n",
        " "
      ]
    },
    {
      "cell_type": "code",
      "execution_count": 4,
      "metadata": {
        "id": "NTHmcr7pLbU0"
      },
      "outputs": [],
      "source": [
        "class Module:\n",
        "    \n",
        "    \"\"\"\n",
        "    Base Model Module\n",
        "    \"\"\"\n",
        "    \n",
        "    def parameters(self):\n",
        "        \"\"\"\n",
        "        \n",
        "        \"\"\"\n",
        "        return []\n",
        "\n",
        "    def zero_grad(self):\n",
        "        \"\"\"\n",
        "        \n",
        "        \"\"\"\n",
        "        for p in self.parameters():\n",
        "            p.grad = 0\n",
        "\n",
        "class LinearLayer(Module):\n",
        "    \n",
        "    \"\"\"\n",
        "    Linear Layer\n",
        "    \"\"\"\n",
        "    \n",
        "    def __init__(self, nin, nout):\n",
        "        \"\"\"\n",
        "        Here we randomly initilize the weights w as 2-dimensional list of Values\n",
        "        And b as 1-dimensional list of Values with value 0\n",
        "        \n",
        "        You may use this stucture to implement the __call__ function\n",
        "        \"\"\"\n",
        "        self.w = []\n",
        "        for i in range(nin):\n",
        "            w_tmp = [Value(random.uniform(-1,1)) for j in range(nout)]\n",
        "            self.w.append(w_tmp)\n",
        "        self.b = [Value(0) for i in range(nout)]\n",
        "        self.nin = nin\n",
        "        self.nout = nout\n",
        "  \n",
        "    def __call__(self, x):\n",
        "        \"\"\"\n",
        "        Args:\n",
        "            x (2d-list): Two dimensional list of Values with shape [batch_size , nin]\n",
        "        \n",
        "        Returns:\n",
        "            xout (2d-list): Two dimensional list of Values with shape [batch_size, nout] \n",
        "        \"\"\"\n",
        "        #TODO implement this function and return the output of a linear layer.\n",
        "        #f(x,W,b) = Wx+b\n",
        "\n",
        "        xout = []\n",
        "        for i in range(len(x)):\n",
        "            x_temp = []\n",
        "            for k in range(self.nout):\n",
        "                temp_value = Value(0)\n",
        "                temp_value = sum([self.w[j][k] * x[i][j] for j in range(self.nin)]) + self.b[k]\n",
        "                x_temp.append(temp_value)\n",
        "            xout.append(x_temp)\n",
        "        \n",
        "        return xout\n",
        "\n",
        "    def parameters(self):\n",
        "        \"\"\"\n",
        "        Get the list of parameters in the Linear Layer\n",
        "        \n",
        "        Args:\n",
        "            None\n",
        "        \n",
        "        Returns:\n",
        "            params (list): List of parameters in the layer\n",
        "        \"\"\"\n",
        "        return [p for row in self.w for p in row] + [p for p in self.b]"
      ]
    },
    {
      "cell_type": "markdown",
      "metadata": {
        "id": "6gwYpbiRfoFH"
      },
      "source": [
        "Test your implementation of linear layer, the error should be nearly 0."
      ]
    },
    {
      "cell_type": "code",
      "execution_count": 5,
      "metadata": {
        "colab": {
          "base_uri": "https://localhost:8080/"
        },
        "id": "fHLnHUW-fydy",
        "outputId": "a2ad47bc-a004-4a33-b226-283b7b372430"
      },
      "outputs": [
        {
          "output_type": "stream",
          "name": "stdout",
          "text": [
            "0.0\n"
          ]
        }
      ],
      "source": [
        "## Initialization of Layer with Weights\n",
        "linear_model_test = LinearLayer(4, 4)\n",
        "linear_model_test.w = [[Value(data=0.7433570245252463), Value(data=-0.9662164096144394), Value(data=-0.17087204941322653), Value(data=-0.5186656374983067)], \n",
        "                       [Value(data=-0.1414882837892344), Value(data=-0.5898971049017006), Value(data=-0.3448340220492381), Value(data=0.5278833226346107)], \n",
        "                       [Value(data=0.3990701306597799), Value(data=-0.3319058654296163), Value(data=-0.784797384411202), Value(data=0.7603317495966846)], \n",
        "                       [Value(data=-0.5711035064293541), Value(data=-0.0001937643033362857), Value(data=0.12693226232877053), Value(data=-0.36044237239197097)]]\n",
        "linear_model_test.b = [Value(data=0), Value(data=0), Value(data=0), Value(data=0)]\n",
        "\n",
        "## Forward Pass\n",
        "x_test = [[-0.17120438454836173, -0.3736077734087335, -0.48495413054653214, 0.8269206715993096]]\n",
        "y_hat_test = linear_model_test(x_test)\n",
        "y_ref = [[Value(data=-0.7401928625441141), Value(data=0.5466095223360173), Value(data=0.6436403600545564), Value(data=-0.7752067527386406)]]\n",
        "\n",
        "## Error Calculation\n",
        "predict_error = 0\n",
        "for i in range(4):\n",
        "    predict_error += (y_hat_test[0][i] - y_ref[0][i])**2\n",
        "print(predict_error.data)"
      ]
    },
    {
      "cell_type": "markdown",
      "metadata": {
        "id": "IfSXiqRShoM1"
      },
      "source": [
        "### Implementation of Loss functions\n",
        "\n",
        "You will implement softmax, cross entropy loss, and accuracy here for further use"
      ]
    },
    {
      "cell_type": "code",
      "execution_count": 6,
      "metadata": {
        "id": "KW_OLYJ_hhbY"
      },
      "outputs": [],
      "source": [
        "def softmax(y_hat):\n",
        "    \"\"\"\n",
        "    Softmax computation\n",
        "    \n",
        "    Args:\n",
        "        y_hat (2d-list): 2-dimensional list of Values with shape [batch_size, n_class]\n",
        "    \n",
        "    Returns:\n",
        "        s (2d-list): 2-dimensional list of Values with the same shape as y_hat    \n",
        "    \"\"\"\n",
        "    #TODO implement the softmax function and return the output.\n",
        "    s = []\n",
        "    for i in range(len(y_hat)):\n",
        "        temp = []     #for every sample we need a new temp list to hold the expected value of true class\n",
        "        sum_pred = Value(0)     \n",
        "        for j in range(len(y_hat[0])):\n",
        "            sum_pred += np.exp(y_hat[i][j])\n",
        "        temp = list(np.exp(y_hat[i][j])/sum_pred for j in range(len(y_hat[0])))\n",
        "        s.append(temp)\n",
        "\n",
        "    return s"
      ]
    },
    {
      "cell_type": "code",
      "execution_count": 7,
      "metadata": {
        "id": "9xdTC9Tym6sP"
      },
      "outputs": [],
      "source": [
        "def cross_entropy_loss(y_hat, y):\n",
        "    \"\"\"\n",
        "    Cross-entropy Loss computation\n",
        "    \n",
        "    Args:\n",
        "        y_hat (2d-list): Output from linear function with shape [batch_size, n_class]\n",
        "        y (1d-list): List of ground truth labels with shape [batch_size, ]\n",
        "    \n",
        "    Returns:\n",
        "        loss (Value): Loss value of type Value\n",
        "    \"\"\"\n",
        "    #TODO implement the calculation of cross_entropy_loss between y_hat and y.\n",
        "    soft = softmax(y_hat)\n",
        "    loss = Value(0)\n",
        "    for i in range(len(y)):\n",
        "        for j in range(len(y_hat[0])):\n",
        "            if y[i] == j:\n",
        "                loss -= np.log(soft[i][j])\n",
        "    loss = loss/len(y)\n",
        "    \n",
        "    return loss"
      ]
    },
    {
      "cell_type": "code",
      "execution_count": 8,
      "metadata": {
        "id": "8jeK31K85qsB"
      },
      "outputs": [],
      "source": [
        "def accuracy(y_hat, y):\n",
        "    \"\"\"\n",
        "    Accuracy computation\n",
        "    \n",
        "    Args:\n",
        "        y_hat (2d-list): Output from linear function with shape [batch_size, n_class]\n",
        "        y (1d-list): List of ground truth labels with shape [batch_size, ]\n",
        "    \n",
        "    Returns:\n",
        "        acc (float): Accuracy score\n",
        "    \"\"\"\n",
        "    #TODO implement the calculation of accuracy of the predicted y_hat w.r.t y.\n",
        "    cnt = 0\n",
        "    for i in range(len(y)):\n",
        "        if all(y_hat[i][y[i]].data >= y_hat[i][j].data for j in range(len(y_hat[0]))):\n",
        "            cnt += 1\n",
        "    acc = cnt/len(y)\n",
        "    \n",
        "    return acc"
      ]
    },
    {
      "cell_type": "markdown",
      "metadata": {
        "id": "jti1kRlzf14E"
      },
      "source": [
        "Test the implementation of `softmax()` and `cross_entropy_loss()` as well as the gradient calculation of `Value` class. The errors should be nearly 0."
      ]
    },
    {
      "cell_type": "code",
      "execution_count": 9,
      "metadata": {
        "colab": {
          "base_uri": "https://localhost:8080/"
        },
        "id": "My_zbUj7gBLo",
        "outputId": "4d3dbd70-cff0-480c-e934-63520e28e029"
      },
      "outputs": [
        {
          "output_type": "stream",
          "name": "stdout",
          "text": [
            "0.0\n",
            "0.0\n",
            "6.355568816477878e-33\n",
            "1.232595164407831e-32\n"
          ]
        }
      ],
      "source": [
        "## Ground Truth + Forward Pass\n",
        "y_gt = [1]\n",
        "y_hat_test = linear_model_test(x_test)\n",
        "\n",
        "## Softmax Calculation\n",
        "prob_test = softmax(y_hat_test)\n",
        "prob_ref = [[0.10441739448437284, 0.37811510516540814, 0.4166428991676558, 0.10082460118256342]]\n",
        "softmax_error = 0\n",
        "for i in range(4):\n",
        "    softmax_error += (prob_ref[0][i] - prob_test[0][i])**2\n",
        "print(softmax_error.data)\n",
        "\n",
        "## Cross Entropy Loss Calculation\n",
        "loss_test = cross_entropy_loss(y_hat_test, y_gt)\n",
        "loss_ref = Value(data=0.9725566186970217)\n",
        "print((loss_test - loss_ref).data)\n",
        "\n",
        "## Update Gradient Based on Loss\n",
        "linear_model_test.zero_grad()\n",
        "loss_test.backward()\n",
        "w_gradient_ref = [[-0.017876715758840547, 0.10646942068007896, -0.07133109112844363, -0.01726161379279479], \n",
        "                  [-0.0390111502584479, 0.23234103087567629, -0.1556610258645873, -0.03766885475264107], \n",
        "                  [-0.05063764675610328, 0.30158564847453107, -0.2020526949142369, -0.04889530680419089], \n",
        "                  [0.08634490197366762, -0.5142494748940867, 0.3445306259968013, 0.08337394692361787]]\n",
        "b_gradient_ref = [0.10441739448437282, -0.6218848948345919, 0.4166428991676557, 0.1008246011825634]\n",
        "\n",
        "## Compute Error\n",
        "w_gradient_error = 0\n",
        "b_gradient_error = 0\n",
        "for i in range(4):\n",
        "    b_gradient_error += (linear_model_test.b[i].grad - b_gradient_ref[i]) ** 2\n",
        "    for j in range(4):\n",
        "        w_gradient_error += (linear_model_test.w[i][j].grad - w_gradient_ref[i][j]) ** 2\n",
        "print(w_gradient_error)\n",
        "print(b_gradient_error)"
      ]
    },
    {
      "cell_type": "markdown",
      "metadata": {
        "id": "ovsoGs3_ljNC"
      },
      "source": [
        "Implement the following functions to visualize the ground truth and the decision boundary in the same figure."
      ]
    },
    {
      "cell_type": "code",
      "execution_count": 10,
      "metadata": {
        "id": "B9kPT-caWUaw"
      },
      "outputs": [],
      "source": [
        "def plot_points(X, Y, scale, n, data):\n",
        "    \"\"\"\n",
        "    Plot points in the visualization image\n",
        "    \"\"\"\n",
        "    points_color = [[0., 0. , 255.], [255., 0., 0.], [0., 255., 0.],[0., 0. , 0.]]\n",
        "    \n",
        "    for i in range(X.shape[0]):\n",
        "        #TODO Assign a color to \"data\" according to the position and the label of X\n",
        "        #rescale the values of X\n",
        "        x1 = (X[i][0] + scale) / (scale * 2 / n)  #-scale to +scale: scale*2， then divide by the number of pixels\n",
        "        x2 = (X[i][1] + scale) / (scale * 2 / n)\n",
        "        for j in range(3):\n",
        "            data[int(x1)][int(x2)][j] = points_color[int(Y[i])][j] #assign color\n",
        "    \n",
        "    return data\n",
        "\n",
        "def plot_background(scale, n, model):\n",
        "    \"\"\"\n",
        "    Color the background in the visualization image\n",
        "    \"\"\"\n",
        "\n",
        "    background_color = [[0., 191., 255.], [255., 110., 180.], [202., 255., 112.],[156., 156., 156.]]\n",
        "   \n",
        "    data = np.zeros((n,n,3), dtype='uint8')     #n number of n*3 2-d array\n",
        "    \n",
        "    for i in range(n):\n",
        "        x1 = -scale + 2 * scale / n * i\n",
        "        for j in range(n):\n",
        "            x2 = -scale + 2 * scale / n * j\n",
        "            input = [[Value(x1),Value(x2)]]\n",
        "            \n",
        "            #TODO using the model to predict a class for the input and assign a color to \"data\" at this position.\n",
        "            out = model(input)[0]\n",
        "            temp = out[0].data\n",
        "            label = 0\n",
        "            for k in range(1,len(out)):\n",
        "                if out[k].data > temp:\n",
        "                    temp = out[k].data      #update the value of temp when we found a higher score\n",
        "                    label = k\n",
        "            \n",
        "            for z in range(3):\n",
        "                data[i][j][z] = background_color[label][z]\n",
        "    return data\n",
        "\n",
        "\n",
        "def visualization(X, Y, model):\n",
        "    \"\"\"\n",
        "    Decision boundary visualization\n",
        "    \"\"\"\n",
        "    scale = 4.5  # the scale of X axis and Y axis. To say, x is from -scale to +scale\n",
        "    n = 300      # seperate the image into n*n pixels \n",
        "\n",
        "    data = plot_background (scale, n, model)\n",
        "    data = plot_points (X, Y, scale, n, data)\n",
        "    \n",
        "    plt.imshow(data)\n",
        "    plt.axis('off')\n",
        "    plt.show()"
      ]
    },
    {
      "cell_type": "markdown",
      "metadata": {
        "id": "RRJgvFM6Ob-V"
      },
      "source": [
        "if you implement the plot function correctly, you will get some image like:\n",
        "\n",
        "![download.png](data:image/png;base64,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)\n"
      ]
    },
    {
      "cell_type": "markdown",
      "metadata": {
        "id": "PaPMBVcZiVah"
      },
      "source": [
        "### Implementation of training procedure\n",
        "\n",
        "With input data `x`, ground_truth `y`, and `model` as parameters, implement the gradient descent method to train your model and plot loss and accuracy vs training iterations"
      ]
    },
    {
      "cell_type": "code",
      "execution_count": 11,
      "metadata": {
        "id": "d9b1UnDTO12e"
      },
      "outputs": [],
      "source": [
        "def train(x,\n",
        "          y,\n",
        "          model,\n",
        "          loss_function=cross_entropy_loss, \n",
        "          accuracy_function=accuracy,\n",
        "          max_iteration=500,\n",
        "          learning_rate=1):\n",
        "    \"\"\"\n",
        "    Args:\n",
        "       x (2-d list): List of Values with shape: [n_samples, n_channels]\n",
        "       y (1-d list): List of integers with shape: [n_samples]\n",
        "       model (Module): Linear model\n",
        "       loss_function (callable): Loss function to use during training\n",
        "       accuracy_function (callable): Function used for calculating training accuracy\n",
        "       max_iteration (int): Number of epochs to train model for\n",
        "       learning_rate (numeric): Step size of the gradient update\n",
        "    \"\"\"\n",
        "    for i in range(max_iteration):\n",
        "        #TODO compute y_hat and calculate the loss between y_hat and y as well as\n",
        "        # the accuracy of y_hat w.r.t y.\n",
        "        y_hat = model(x)\n",
        "        loss = loss_function(y_hat, y)\n",
        "        acc = accuracy_function(y_hat, y)\n",
        "\n",
        "        #TODO Then You will need to calculate gradient for all parameters, and \n",
        "        #do gradient descent for all the parameters.\n",
        "        #The list of parameters can be easily obtained by calling \n",
        "        #model.parameters() which is implemented above.\n",
        "        \n",
        "        # model.zero_grad()\n",
        "        loss.backward()\n",
        "\n",
        "        params = model.parameters()\n",
        "        for p in params:\n",
        "            p.data -= learning_rate * p.grad      #gradient descent\n",
        "            p.grad = 0                            #zero out the gradient\n",
        "\n",
        "        #Then plot the loss / accuracy vs iterations.\n",
        "        if i % 20 == 19:\n",
        "            print(\"iteration\",i,\"loss:\",loss.data, \"accuracy:\",acc)\n",
        "        ## record loss\n",
        "        if i == 0 :\n",
        "        # initialize L\n",
        "            L = loss.data\n",
        "            A = acc\n",
        "        else:\n",
        "            L = np.append(L,loss.data)\n",
        "            A = np.append(A,acc)\n",
        "    \n",
        "    ## Plot Loss and Accuracy\n",
        "    fig0=plt.figure(0)\n",
        "    plt.plot(L,'-')\n",
        "    plt.xlabel('Iteration', fontsize=18)\n",
        "    plt.ylabel('Loss', fontsize=16)\n",
        "    plt.show()\n",
        "    fig1=plt.figure(1)\n",
        "    plt.plot(A,'-')\n",
        "    plt.xlabel('Iteration', fontsize=18)\n",
        "    plt.ylabel('Accuracy', fontsize=16)\n",
        "    plt.show()\n"
      ]
    },
    {
      "cell_type": "markdown",
      "metadata": {
        "id": "h9p8QtQJjeAl"
      },
      "source": [
        "### Train the model\n",
        "\n",
        "Load the data, format it, instantiate your model and start training!"
      ]
    },
    {
      "cell_type": "code",
      "execution_count": 12,
      "metadata": {
        "colab": {
          "base_uri": "https://localhost:8080/",
          "height": 1000
        },
        "id": "pOHM_FgtoUyu",
        "outputId": "e4f46b9d-3c60-4643-f5d7-931feed31c0f"
      },
      "outputs": [
        {
          "output_type": "stream",
          "name": "stdout",
          "text": [
            "(100, 2) (100,) [0 1 2 3]\n",
            "iteration 19 loss: 0.552888871067722 accuracy: 0.96\n",
            "iteration 39 loss: 0.41229592749091715 accuracy: 0.97\n",
            "iteration 59 loss: 0.3444207301057917 accuracy: 0.98\n",
            "iteration 79 loss: 0.3021853961224571 accuracy: 0.98\n",
            "iteration 99 loss: 0.27256724293561657 accuracy: 0.98\n",
            "iteration 119 loss: 0.2502722338187816 accuracy: 0.99\n",
            "iteration 139 loss: 0.23267825430229053 accuracy: 0.99\n",
            "iteration 159 loss: 0.21831616895075917 accuracy: 0.99\n",
            "iteration 179 loss: 0.20628968377154638 accuracy: 0.99\n",
            "iteration 199 loss: 0.19601661892097755 accuracy: 0.99\n",
            "iteration 219 loss: 0.18710014158204186 accuracy: 0.99\n",
            "iteration 239 loss: 0.17925918260721868 accuracy: 0.99\n",
            "iteration 259 loss: 0.17228833981299513 accuracy: 0.99\n",
            "iteration 279 loss: 0.16603354709652035 accuracy: 0.99\n",
            "iteration 299 loss: 0.1603766685725006 accuracy: 0.99\n",
            "iteration 319 loss: 0.15522538947920672 accuracy: 1.0\n",
            "iteration 339 loss: 0.1505063780684394 accuracy: 1.0\n",
            "iteration 359 loss: 0.1461605372510287 accuracy: 1.0\n",
            "iteration 379 loss: 0.14213963113538108 accuracy: 1.0\n",
            "iteration 399 loss: 0.1384038396578142 accuracy: 1.0\n",
            "iteration 419 loss: 0.13491995404591478 accuracy: 1.0\n",
            "iteration 439 loss: 0.1316600237617071 accuracy: 1.0\n",
            "iteration 459 loss: 0.128600327302679 accuracy: 1.0\n",
            "iteration 479 loss: 0.12572057911366674 accuracy: 1.0\n",
            "iteration 499 loss: 0.12300331118471683 accuracy: 1.0\n"
          ]
        },
        {
          "output_type": "display_data",
          "data": {
            "image/png": "[encoded data removed]",
            "text/plain": [
              "<Figure size 432x288 with 1 Axes>"
            ]
          },
          "metadata": {
            "needs_background": "light"
          }
        },
        {
          "output_type": "display_data",
          "data": {
            "image/png": "[encoded data removed]",
            "text/plain": [
              "<Figure size 432x288 with 1 Axes>"
            ]
          },
          "metadata": {
            "needs_background": "light"
          }
        }
      ],
      "source": [
        "## Load Q3 Dataset\n",
        "datapath = './Q3_data.npz'\n",
        "data = np.load(datapath)\n",
        "\n",
        "## Load Data and Parse Shape Information\n",
        "X = data['X']\n",
        "Y = data['Y']\n",
        "print(X.shape, Y.shape, np.unique(Y))\n",
        "nin = X.shape[1]\n",
        "nout = np.max(Y) + 1\n",
        "\n",
        "## Initialize data using your Value class\n",
        "x = [[Value(v) for v in sample] for sample in X]\n",
        "y = [int(v) for v in Y]\n",
        "\n",
        "## Initialize a Linear Model\n",
        "linear_model = LinearLayer(nin, nout)\n",
        "\n",
        "## Train the Model using Your Data\n",
        "train(x, y, linear_model)"
      ]
    },
    {
      "cell_type": "code",
      "execution_count": 13,
      "metadata": {
        "colab": {
          "base_uri": "https://localhost:8080/",
          "height": 248
        },
        "id": "nEUUcgHEM6of",
        "outputId": "76925cb8-d02e-44a9-8624-99992e061f6f"
      },
      "outputs": [
        {
          "output_type": "display_data",
          "data": {
            "image/png": "[encoded data removed]",
            "text/plain": [
              "<Figure size 432x288 with 1 Axes>"
            ]
          },
          "metadata": {
            "needs_background": "light"
          }
        }
      ],
      "source": [
        "## Visualize learned decision boundaries\n",
        "visualization(X, Y, linear_model)"
      ]
    },
    {
      "cell_type": "markdown",
      "metadata": {
        "id": "ctXkntnIkdjt"
      },
      "source": [
        "## Question 4"
      ]
    },
    {
      "cell_type": "markdown",
      "metadata": {
        "id": "GFoPi3NskoIh"
      },
      "source": [
        "### a) Is this dataset linear separable?\n",
        "load the dataset for this question and train a linear model on this dataset and report the performance"
      ]
    },
    {
      "cell_type": "code",
      "execution_count": 14,
      "metadata": {
        "id": "N1BHFxm4Ix2c"
      },
      "outputs": [],
      "source": [
        "## Load Q4 Dataset\n",
        "datapath = './Q4_data.npz'\n",
        "data = np.load(datapath)\n",
        "\n",
        "## Parse Data and Identify Dimensions\n",
        "X = data['X']\n",
        "Y = data['Y']\n",
        "nin = X.shape[1]\n",
        "nout = int(np.max(Y)) + 1\n",
        "\n",
        "## Initialize data using your value class\n",
        "x = [[Value(v) for v in sample] for sample in X]\n",
        "y = [int(v) for v in Y]"
      ]
    },
    {
      "cell_type": "code",
      "execution_count": 15,
      "metadata": {
        "colab": {
          "base_uri": "https://localhost:8080/",
          "height": 991
        },
        "id": "qlFvA3CCS33X",
        "outputId": "13ae2fd4-4a4f-4d60-824c-a58d69cdabeb"
      },
      "outputs": [
        {
          "output_type": "stream",
          "name": "stdout",
          "text": [
            "iteration 19 loss: 0.3747348484861411 accuracy: 0.825\n",
            "iteration 39 loss: 0.3566417279503506 accuracy: 0.825\n",
            "iteration 59 loss: 0.34951194194289237 accuracy: 0.825\n",
            "iteration 79 loss: 0.34547118457422227 accuracy: 0.825\n",
            "iteration 99 loss: 0.34283309175701987 accuracy: 0.825\n",
            "iteration 119 loss: 0.34097854116802295 accuracy: 0.825\n",
            "iteration 139 loss: 0.3396140740671241 accuracy: 0.825\n",
            "iteration 159 loss: 0.3385790042545642 accuracy: 0.825\n",
            "iteration 179 loss: 0.3377765174375198 accuracy: 0.85\n",
            "iteration 199 loss: 0.3371441166547128 accuracy: 0.85\n",
            "iteration 219 loss: 0.336639341609726 accuracy: 0.85\n",
            "iteration 239 loss: 0.33623222058894814 accuracy: 0.85\n",
            "iteration 259 loss: 0.3359009768282076 accuracy: 0.85\n",
            "iteration 279 loss: 0.335629431569661 accuracy: 0.85\n",
            "iteration 299 loss: 0.335405351615801 accuracy: 0.85\n",
            "iteration 319 loss: 0.3352193536741601 accuracy: 0.85\n",
            "iteration 339 loss: 0.3350641535214209 accuracy: 0.85\n",
            "iteration 359 loss: 0.33493403774117797 accuracy: 0.85\n",
            "iteration 379 loss: 0.33482448410955123 accuracy: 0.85\n",
            "iteration 399 loss: 0.33473188404930765 accuracy: 0.85\n",
            "iteration 419 loss: 0.33465333676810916 accuracy: 0.85\n",
            "iteration 439 loss: 0.3345864946819078 accuracy: 0.85\n",
            "iteration 459 loss: 0.33452944609957896 accuracy: 0.85\n",
            "iteration 479 loss: 0.3344806253367021 accuracy: 0.85\n",
            "iteration 499 loss: 0.3344387432514248 accuracy: 0.85\n"
          ]
        },
        {
          "output_type": "display_data",
          "data": {
            "image/png": "[encoded data removed]",
            "text/plain": [
              "<Figure size 432x288 with 1 Axes>"
            ]
          },
          "metadata": {
            "needs_background": "light"
          }
        },
        {
          "output_type": "display_data",
          "data": {
            "image/png": "[encoded data removed]",
            "text/plain": [
              "<Figure size 432x288 with 1 Axes>"
            ]
          },
          "metadata": {
            "needs_background": "light"
          }
        }
      ],
      "source": [
        "## Initialize Linear Model\n",
        "linear_model = LinearLayer(nin, nout)\n",
        "\n",
        "## Train Model\n",
        "train(x, y, linear_model)"
      ]
    },
    {
      "cell_type": "code",
      "execution_count": 16,
      "metadata": {
        "colab": {
          "base_uri": "https://localhost:8080/",
          "height": 248
        },
        "id": "8cFD2eQ2WWUQ",
        "outputId": "2a3d731c-651b-40eb-8150-2026ba63f9f9"
      },
      "outputs": [
        {
          "output_type": "display_data",
          "data": {
            "image/png": "[encoded data removed]",
            "text/plain": [
              "<Figure size 432x288 with 1 Axes>"
            ]
          },
          "metadata": {
            "needs_background": "light"
          }
        }
      ],
      "source": [
        "## Visualize Learned Decision Boundary\n",
        "visualization(X, Y, linear_model)"
      ]
    },
    {
      "cell_type": "markdown",
      "metadata": {
        "id": "DYoFsdm0m18J"
      },
      "source": [
        "### b) Implementation of Multi Layer Perceptron (MLP)\n",
        "\n",
        "Implement a class `MLP` to add arbitrary layers. You will need to implement the forward function to return results `out` with `x` fed into the model."
      ]
    },
    {
      "cell_type": "code",
      "execution_count": 17,
      "metadata": {
        "id": "ldxalUrYLOZW"
      },
      "outputs": [],
      "source": [
        "class MLP(Module):\n",
        "    \n",
        "    \"\"\"\n",
        "    Multi Layer Perceptron\n",
        "    \"\"\"\n",
        "    def __init__(self, dimensions):\n",
        "        \"\"\"\n",
        "        Initialize multiple layers here in the list named self.linear_layers\n",
        "        \"\"\"\n",
        "        assert isinstance(dimensions, list)\n",
        "        assert len(dimensions) > 2\n",
        "        self.linear_layers = []\n",
        "        for i in range(len(dimensions) - 1):\n",
        "            self.linear_layers.append(LinearLayer(dimensions[i], dimensions[i+1]))\n",
        "\n",
        "    def __call__(self, x):\n",
        "        \"\"\"\n",
        "        Args:\n",
        "            x (2d-list): Two dimensional list of Values with shape [batch_size , nin]\n",
        "        \n",
        "        Returns:\n",
        "            xout (2d-list): Two dimensional list of Values with shape [batch_size, nout]\n",
        "        \"\"\"\n",
        "        #TODO Implement this function and return the output of a MLP\n",
        "        \n",
        "        #linear_layer -> relu -> linear_layer -> relu -> …linear_layer\n",
        "        xout = [x]\n",
        "        L = len(self.linear_layers)\n",
        "        for layer in range(L):\n",
        "            prev = self.linear_layers[layer](xout[-1])\n",
        "            if layer == L - 1:\n",
        "                return prev\n",
        "        #for n linear layers we need n-1 relu (we do not apply relu to the output of the last linear layer)\n",
        "            temp1 = []\n",
        "            for i in range(len(prev)):\n",
        "                temp2 = []\n",
        "                for j in range(len(prev[0])):\n",
        "                    relu = Value(data=0)\n",
        "                    relu = prev[i][j].relu()      #Use ReLU as activation functions for the first hidden layer\n",
        "                    temp2.append(relu)\n",
        "                temp1.append(temp2)\n",
        "            xout.append(temp1)\n",
        "        \n",
        "        return xout\n",
        "  \n",
        "    def parameters(self):\n",
        "        \"\"\"\n",
        "        Get the parameters of each layer\n",
        "        \n",
        "        Args:\n",
        "            None\n",
        "        \n",
        "        Returns:\n",
        "            params (list of Values): Parameters of the MLP\n",
        "        \"\"\"\n",
        "        return [p for layer in self.linear_layers for p in layer.parameters()]\n",
        "  \n",
        "    def zero_grad(self):\n",
        "        \"\"\"\n",
        "        Zero out the gradient of each parameter\n",
        "        \"\"\"\n",
        "        for p in self.parameters():\n",
        "            p.grad = 0"
      ]
    },
    {
      "cell_type": "markdown",
      "metadata": {
        "id": "vrFd0boknj94"
      },
      "source": [
        "Train your MLP model and visualize the decision boundary with ground truth points."
      ]
    },
    {
      "cell_type": "code",
      "execution_count": 20,
      "metadata": {
        "colab": {
          "base_uri": "https://localhost:8080/",
          "height": 991
        },
        "id": "H_zTwbDZQ4I4",
        "outputId": "63172e7a-c6b7-4d98-ab16-25a2bd097cf2"
      },
      "outputs": [
        {
          "output_type": "stream",
          "name": "stdout",
          "text": [
            "iteration 19 loss: 0.31878978377746875 accuracy: 0.85\n",
            "iteration 39 loss: 0.28785275211432565 accuracy: 0.85\n",
            "iteration 59 loss: 0.29092514197494296 accuracy: 0.85\n",
            "iteration 79 loss: 0.2926768765193544 accuracy: 0.825\n",
            "iteration 99 loss: 0.28191404550405696 accuracy: 0.85\n",
            "iteration 119 loss: 0.2722271666870359 accuracy: 0.875\n",
            "iteration 139 loss: 0.2658083668902908 accuracy: 0.875\n",
            "iteration 159 loss: 0.25708735896248514 accuracy: 0.9\n",
            "iteration 179 loss: 0.25133000224376667 accuracy: 0.9\n",
            "iteration 199 loss: 0.24512056853621667 accuracy: 0.9\n",
            "iteration 219 loss: 0.2376492026744943 accuracy: 0.9\n",
            "iteration 239 loss: 0.22918728397882832 accuracy: 0.9\n",
            "iteration 259 loss: 0.22026128965540345 accuracy: 0.9\n",
            "iteration 279 loss: 0.20425646925486893 accuracy: 0.925\n",
            "iteration 299 loss: 0.41001554128607653 accuracy: 0.875\n",
            "iteration 319 loss: 0.20144273717342176 accuracy: 0.9\n",
            "iteration 339 loss: 0.1831942971652174 accuracy: 0.925\n",
            "iteration 359 loss: 0.19316813624146434 accuracy: 0.925\n",
            "iteration 379 loss: 0.18590828300692788 accuracy: 0.925\n",
            "iteration 399 loss: 0.17517854529659319 accuracy: 0.925\n",
            "iteration 419 loss: 0.26434411553776527 accuracy: 0.925\n",
            "iteration 439 loss: 0.1698687136487727 accuracy: 0.9\n",
            "iteration 459 loss: 0.15651178496062348 accuracy: 0.9\n",
            "iteration 479 loss: 0.17659777328685344 accuracy: 0.925\n",
            "iteration 499 loss: 0.2436604343253177 accuracy: 0.925\n"
          ]
        },
        {
          "output_type": "display_data",
          "data": {
            "image/png": "[encoded data removed]",
            "text/plain": [
              "<Figure size 432x288 with 1 Axes>"
            ]
          },
          "metadata": {
            "needs_background": "light"
          }
        },
        {
          "output_type": "display_data",
          "data": {
            "image/png": "[encoded data removed]",
            "text/plain": [
              "<Figure size 432x288 with 1 Axes>"
            ]
          },
          "metadata": {
            "needs_background": "light"
          }
        }
      ],
      "source": [
        "## Initialize MLP with Given Parameters\n",
        "mlp_model = MLP([nin, 40, nout])\n",
        "\n",
        "## Train the MLP\n",
        "train(x, y, mlp_model)"
      ]
    },
    {
      "cell_type": "code",
      "execution_count": 21,
      "metadata": {
        "colab": {
          "base_uri": "https://localhost:8080/",
          "height": 248
        },
        "id": "sr2-BMquWPg_",
        "outputId": "c779f057-9764-4968-a7ec-c653d84fed08"
      },
      "outputs": [
        {
          "output_type": "display_data",
          "data": {
            "image/png": "[encoded data removed]",
            "text/plain": [
              "<Figure size 432x288 with 1 Axes>"
            ]
          },
          "metadata": {
            "needs_background": "light"
          }
        }
      ],
      "source": [
        "## Visualize Decision Boundaries\n",
        "visualization(X, Y, mlp_model)"
      ]
    },
    {
      "cell_type": "markdown",
      "metadata": {
        "id": "GSoTfLFsau-Q"
      },
      "source": [
        "## Acknowledgement"
      ]
    },
    {
      "cell_type": "markdown",
      "metadata": {
        "id": "n9tFA4DZa4E6"
      },
      "source": [
        "The design of the auto grade structure are based on the work https://github.com/karpathy/micrograd"
      ]
    }
  ],
  "metadata": {
    "colab": {
      "collapsed_sections": [],
      "name": "Homework2.ipynb",
      "provenance": []
    },
    "kernelspec": {
      "display_name": "Python 3",
      "language": "python",
      "name": "python3"
    },
    "language_info": {
      "codemirror_mode": {
        "name": "ipython",
        "version": 3
      },
      "file_extension": ".py",
      "mimetype": "text/x-python",
      "name": "python",
      "nbconvert_exporter": "python",
      "pygments_lexer": "ipython3",
      "version": "3.7.9"
    }
  },
  "nbformat": 4,
  "nbformat_minor": 0
}